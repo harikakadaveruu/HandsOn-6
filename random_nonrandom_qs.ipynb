{
 "cells": [
  {
   "cell_type": "code",
   "execution_count": 8,
   "id": "24ab1f6d",
   "metadata": {},
   "outputs": [
    {
     "name": "stdout",
     "output_type": "stream",
     "text": [
      "Original array: [3, 7, 1, 8, 2, 9, 4, 6, 5, 10]\n",
      "Non-random pivot quicksort: [1, 2, 3, 4, 5, 6, 7, 8, 9, 10]\n",
      "Random pivot quicksort: [1, 2, 3, 4, 5, 6, 7, 8, 9, 10]\n"
     ]
    }
   ],
   "source": [
    "import random\n",
    "def qs_random(A):\n",
    "    if len(A) <= 1:\n",
    "        return A\n",
    "    pi=random.choice(A)\n",
    "    lesser=[x for x in A if x < pi]\n",
    "    equal=[x for x in A if x == pi]\n",
    "    greater=[x for x in A if x > pi]\n",
    "    return qs_random(lesser) + equal + qs_random(greater)\n",
    "def qs_non_random(A):\n",
    "    if len(A) <= 1:\n",
    "        return A\n",
    "    pi=A[len(A) // 2]\n",
    "    lesser=[x for x in A if x < pi]\n",
    "    equal=[x for x in A if x == pi]\n",
    "    greater=[x for x in A if x > pi]\n",
    "    return qs_non_random(lesser) + equal + qs_non_random(greater)\n",
    "A=[3,7,1,8,2,9,4,6,5,10]\n",
    "print(\"Original array:\",A)\n",
    "print(\"Non-random pivot quicksort:\",qs_non_random(A))\n",
    "print(\"Random pivot quicksort:\",qs_random(A))"
   ]
  },
  {
   "cell_type": "code",
   "execution_count": null,
   "id": "a81ec8bc",
   "metadata": {},
   "outputs": [],
   "source": []
  },
  {
   "cell_type": "code",
   "execution_count": null,
   "id": "92e1d265",
   "metadata": {},
   "outputs": [],
   "source": []
  }
 ],
 "metadata": {
  "kernelspec": {
   "display_name": "Python 3 (ipykernel)",
   "language": "python",
   "name": "python3"
  },
  "language_info": {
   "codemirror_mode": {
    "name": "ipython",
    "version": 3
   },
   "file_extension": ".py",
   "mimetype": "text/x-python",
   "name": "python",
   "nbconvert_exporter": "python",
   "pygments_lexer": "ipython3",
   "version": "3.11.5"
  }
 },
 "nbformat": 4,
 "nbformat_minor": 5
}
